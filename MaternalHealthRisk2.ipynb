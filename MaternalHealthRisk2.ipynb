{
 "cells": [
  {
   "cell_type": "code",
   "execution_count": null,
   "metadata": {
    "id": "DhlYt665jxb4"
   },
   "outputs": [],
   "source": [
    "import pandas as pd \n",
    "import numpy as np\n",
    "import seaborn as sns\n",
    "from sklearn import preprocessing \n",
    "from sklearn.model_selection import train_test_split\n",
    "from sklearn.neighbors import KNeighborsClassifier\n",
    "from sklearn.preprocessing import StandardScaler\n",
    "from sklearn.metrics import *\n",
    "import matplotlib.pyplot as plt\n",
    "from sklearn.metrics import confusion_matrix\n",
    "from matplotlib.colors import Normalize\n",
    "from sklearn.svm import SVC\n",
    "from sklearn.model_selection import StratifiedShuffleSplit\n",
    "from sklearn.model_selection import GridSearchCV"
   ]
  },
  {
   "cell_type": "code",
   "execution_count": null,
   "metadata": {
    "id": "5ErJwzdpVJQv"
   },
   "outputs": [],
   "source": [
    "df = pd.read_csv(\"Maternal Health Risk Data Set.csv\")\n",
    "df.head()\n",
    "\n",
    "#Aucune valeur manquante dans les donnees\n",
    "df.isnull().values.sum()"
   ]
  },
  {
   "cell_type": "code",
   "execution_count": null,
   "metadata": {
    "id": "jxFYX8M301pY"
   },
   "outputs": [],
   "source": [
    "# Répartition graphique des patientes sur un tableau récapitulatif des premières variables\n",
    "plt.figure(figsize=(25,5))\n",
    "plt.subplot(1,4,1)\n",
    "sns.boxplot(x='RiskLevel',y='Age',data=df)\n",
    "plt.subplot(1,4,2)\n",
    "sns.boxplot(x='RiskLevel',y='SystolicBP',data=df)\n",
    "plt.subplot(1,4,3)\n",
    "sns.boxplot(x='RiskLevel',y='DiastolicBP',data=df)\n",
    "plt.subplot(1,4,4)\n",
    "sns.boxplot(x='RiskLevel',y='BS',data=df)\n"
   ]
  },
  {
   "cell_type": "code",
   "execution_count": null,
   "metadata": {
    "id": "I9WrPWBH01pa"
   },
   "outputs": [],
   "source": [
    "values, bins, hist = plt.hist(df['RiskLevel'],edgecolor='red',bins=3)\n",
    "\n",
    "\n",
    "\n",
    "plt.xlabel('Risk class level')\n",
    "plt.ylabel('Number of patients')\n",
    "plt.title('Graphique du nombre de patientes par rapport à la classe de risque de grossesse')\n"
   ]
  },
  {
   "cell_type": "code",
   "execution_count": null,
   "metadata": {
    "id": "_iLev9uD01pd",
    "scrolled": true
   },
   "outputs": [],
   "source": [
    "markers = {\"low risk\": \"s\", \"mid risk\": \"X\",\"high risk\":\"o\"}\n",
    "sns.pairplot(df, hue='RiskLevel', height=3,markers=markers)"
   ]
  },
  {
   "cell_type": "code",
   "execution_count": null,
   "metadata": {
    "id": "hSiVxObq01pe"
   },
   "outputs": [],
   "source": [
    "sns.set_style('whitegrid')\n",
    "sns.FacetGrid(df, hue='RiskLevel', height=3).map(plt.scatter, 'BS', 'SystolicBP').add_legend()\n",
    "sns.FacetGrid(df, hue='RiskLevel', height=3).map(plt.scatter, 'SystolicBP', 'DiastolicBP').add_legend()\n",
    "sns.FacetGrid(df, hue='RiskLevel', height=3).map(plt.scatter, 'DiastolicBP', 'SystolicBP').add_legend()\n",
    "plt.show()"
   ]
  },
  {
   "cell_type": "code",
   "execution_count": null,
   "metadata": {
    "id": "Ciu9d_p_VSTo"
   },
   "outputs": [],
   "source": [
    "sns.heatmap(df.corr(),annot=True, vmin=-1, vmax=1, cmap=sns.diverging_palette(20, 220, as_cmap=True))"
   ]
  },
  {
   "cell_type": "markdown",
   "metadata": {},
   "source": [
    "Méthode Knn"
   ]
  },
  {
   "cell_type": "code",
   "execution_count": null,
   "metadata": {
    "id": "2EsUeaWBVtOF"
   },
   "outputs": [],
   "source": [
    "#On se place dans le cas de la stratégie 1 comme aux premiers exercices du TP1\n",
    "X = df.drop(\"RiskLevel\", axis=1)\n",
    "Y = df['RiskLevel']\n",
    "X_train, X_test, Y_train, Y_test = train_test_split(X, Y, test_size=0.3)"
   ]
  },
  {
   "cell_type": "code",
   "execution_count": null,
   "metadata": {
    "id": "solv1Mu0VxJl"
   },
   "outputs": [],
   "source": [
    "#Normalisation des jeux de donnees comme indique en Partie 1 du TP1\n",
    "scaler = StandardScaler()\n",
    "X_train_scale = scaler.fit_transform(X_train)\n",
    "X_test_scale = scaler.fit_transform(X_test)"
   ]
  },
  {
   "cell_type": "code",
   "execution_count": null,
   "metadata": {
    "id": "qzqevihfWZSI"
   },
   "outputs": [],
   "source": [
    "#Application de l’algorithme des k plus proches voisins, pour chaque valeur de p_k, de sorte à pouvoir évaluer l’erreur de\n",
    "#classification en apprentissage et en validation\n",
    "range_k = ( 1, 5, 10, 15, 20, 25 )\n",
    "f1 = []\n",
    "accuracy = []\n",
    "\n",
    "for i in range_k:\n",
    "    neigh  = KNeighborsClassifier(n_neighbors=i)\n",
    "    neigh.fit(X_train_scale, np.ravel(Y_train))\n",
    "    y_pred = neigh.predict(X_test_scale)\n",
    "\n",
    "#Fonction f1-score paramètre macro prend la moyenne des F1-score par classe, tiens compte taille echantillon\n",
    "    print(\"##########################################################\")\n",
    "    print('k=',i)\n",
    "    print(classification_report(Y_test,y_pred,digits=3))\n",
    "    print(\"##########################################################\")\n",
    "    accuracy.append(accuracy_score(Y_test,y_pred))\n",
    "    f1.append(f1_score(Y_test,y_pred, average='macro'))\n",
    "\n",
    "plt.plot(range_k,accuracy)\n",
    "plt.xlabel('Valeur K testé')\n",
    "plt.ylabel('Accuracy')\n",
    "plt.title(\"Les valeurs p_k par rapport à l'accuracy\")\n",
    "plt.show()\n",
    "\n",
    "plt.plot(range_k,f1)\n",
    "plt.xlabel('Valeur K testé')\n",
    "plt.ylabel('f1_score')\n",
    "plt.title('Les valeurs p_k par rapport au f1_score')\n",
    "plt.show()\n",
    "\n",
    "\n",
    "\n",
    "\n",
    "    \n"
   ]
  },
  {
   "cell_type": "code",
   "execution_count": null,
   "metadata": {
    "id": "jFyLUNlq01pp"
   },
   "outputs": [],
   "source": [
    "plot_confusion_matrix(neigh,X_test_scale, Y_test)\n"
   ]
  },
  {
   "cell_type": "markdown",
   "metadata": {},
   "source": [
    "Méthode SVM"
   ]
  },
  {
   "cell_type": "code",
   "execution_count": null,
   "metadata": {
    "id": "Qcva_hclgsqX"
   },
   "outputs": [],
   "source": [
    "\n",
    "\n",
    "#appliquer GridSearchCV pour chercher les meilleurs parametres\n",
    "param_grid = [\n",
    "    {'kernel': ['rbf'], 'gamma': np.arange(0,7,0.1), 'C': np.arange(0,7,0.1)},\n",
    "    {'kernel': ['poly'], 'degree': [1, 2, 3,4], 'C': np.arange(0,7,0.1)}\n",
    "]\n",
    "\n",
    "cv = StratifiedShuffleSplit(n_splits=5, test_size=0.2)\n",
    "grid = GridSearchCV(SVC(), param_grid=param_grid, cv=cv)\n",
    "grid.fit(X, Y)\n",
    "\n",
    "print(\n",
    "    \"The best parameters are %s with a score of %0.2f\"\n",
    "    % (grid.best_params_, grid.best_score_)\n",
    ")\n",
    "###########La cellule met 19min environ à s'exécuter\n",
    "##########Voici le resultat obtenu:\n",
    "##########The best parameters are {'C': 4.4, 'gamma':6.9, 'kernel': 'rbf'} with a score of 0.82"
   ]
  },
  {
   "cell_type": "code",
   "execution_count": null,
   "metadata": {
    "id": "tCSxvuTFl8Ce"
   },
   "outputs": [],
   "source": [
    "#Création d'un classifieur avec paramètre C et gamma\n",
    "svc=SVC(C=4.4,gamma=6.9) \n",
    "svc.fit(X_train_scale,Y_train)\n",
    "\n",
    "#Prédire sur l'ensemble de test\n",
    "y_pred=svc.predict(X_test_scale)\n",
    "print('Model accuracy score with rbf kernel and C=4.4 and gamma=6.9: {0:0.4f}'. format(accuracy_score(Y_test, y_pred)))"
   ]
  },
  {
   "cell_type": "code",
   "execution_count": null,
   "metadata": {},
   "outputs": [],
   "source": [
    "plot_confusion_matrix(svc, X_test_scale, Y_test)  "
   ]
  }
 ],
 "metadata": {
  "colab": {
   "collapsed_sections": [],
   "provenance": []
  },
  "kernelspec": {
   "display_name": "Python 3 (ipykernel)",
   "language": "python",
   "name": "python3"
  },
  "language_info": {
   "codemirror_mode": {
    "name": "ipython",
    "version": 3
   },
   "file_extension": ".py",
   "mimetype": "text/x-python",
   "name": "python",
   "nbconvert_exporter": "python",
   "pygments_lexer": "ipython3",
   "version": "3.9.13"
  }
 },
 "nbformat": 4,
 "nbformat_minor": 1
}
